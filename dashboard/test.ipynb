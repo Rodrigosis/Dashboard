{
 "cells": [
  {
   "cell_type": "code",
   "execution_count": 1,
   "metadata": {},
   "outputs": [],
   "source": [
    "from scripts.analytics import Analytics\n",
    "import pandas as pd\n",
    "import seaborn as sns\n",
    "import matplotlib.pyplot as plt\n",
    "\n",
    "calculadora =  Analytics()"
   ]
  },
  {
   "cell_type": "code",
   "execution_count": 52,
   "metadata": {},
   "outputs": [],
   "source": [
    "def print_report(dono:str):\n",
    "    res = calculadora.calcular_patrimonio(dono=dono)\n",
    "    cdi = calculadora.calcular_cdi_proventos(dono=dono)\n",
    "    ativos = calculadora.calcular_valorizacao_ativos(dono=dono)\n",
    "    proventos = calculadora.calcular_ativos_proventos(dono=dono)\n",
    "\n",
    "    dolar_hoje = res['dolar_hoje']\n",
    "\n",
    "    print(f\"\"\"\n",
    "    -------- {dono.title()} Patrimonio --------\n",
    "    Patrimonio total: R${res['patrimonio_total']:,.2f}\n",
    "\n",
    "    Moeda Real: R${res['patrimonio_moeda_real']:,.2f}\n",
    "    Ativos Real: R${res['patrimonio_ativos_real']:,.2f}\n",
    "    Moeda Dolar: ${res['patrimonio_moeda_dolar']:,.2f} (R${res['patrimonio_moeda_dolar']*dolar_hoje:,.2f})\n",
    "    Ativos Dolar: ${res['patrimonio_ativos_dolar']:,.2f} (R${res['patrimonio_ativos_dolar']*dolar_hoje:,.2f})\n",
    "\n",
    "    ---------- Detalhamento ----------\n",
    "    \"\"\")\n",
    "\n",
    "\n",
    "    col_1 = []\n",
    "    col_2 = []\n",
    "    col_3 = []\n",
    "    col_4 = []\n",
    "    for key, caixa in cdi.items():\n",
    "        rendimento_p = (cdi[key][\"rendimento\"]/cdi[key][\"valor\"])*100\n",
    "\n",
    "        col_1.append(key)\n",
    "        col_2.append(f'R$ {cdi[key][\"valor\"]:,.2f}')\n",
    "        col_3.append(f'% {rendimento_p:,.2f}')\n",
    "        col_4.append(f'R$ {cdi[key][\"rendimento\"]:,.2f}')\n",
    "\n",
    "    df_cdi = pd.DataFrame()\n",
    "    df_cdi['caixa'] = col_1\n",
    "    df_cdi['valor'] = col_2\n",
    "    df_cdi['rendimento %'] = col_3\n",
    "    df_cdi['rendimento'] = col_4\n",
    "\n",
    "    print(df_cdi.to_string(index=False))\n",
    "    print('')\n",
    "\n",
    "    col_1 = []\n",
    "    col_2 = []\n",
    "    col_3 = []\n",
    "    col_4 = []\n",
    "    for key, ativo in ativos.items():\n",
    "        prov = 0\n",
    "        if key in proventos:\n",
    "            prov = proventos[key]['proventos']\n",
    "\n",
    "        valor = ativo['price_today'] * ativo['quantidade']\n",
    "        valorizacao = ativo['valorizacao'] * 100\n",
    "\n",
    "        col_1.append(key)\n",
    "        col_2.append(f'R$ {valor:,.2f}')\n",
    "        col_3.append(f'% {valorizacao:,.2f}')\n",
    "        col_4.append(f'R$ {prov:,.2f}')\n",
    "\n",
    "    df_ativos = pd.DataFrame()\n",
    "    df_ativos['ativo'] = col_1\n",
    "    df_ativos['valor'] = col_2\n",
    "    df_ativos['valorização'] = col_3\n",
    "    df_ativos['proventos'] = col_4\n",
    "\n",
    "    print(df_ativos.to_string(index=False))\n"
   ]
  },
  {
   "cell_type": "code",
   "execution_count": 53,
   "metadata": {},
   "outputs": [
    {
     "name": "stdout",
     "output_type": "stream",
     "text": [
      "\n",
      "    -------- Rodrigo Patrimonio --------\n",
      "    Patrimonio total: R$105,044.11\n",
      "\n",
      "    Moeda Real: R$41,475.35\n",
      "    Ativos Real: R$41,334.60\n",
      "    Moeda Dolar: $2,467.94 (R$12,074.40)\n",
      "    Ativos Dolar: $2,076.60 (R$10,159.77)\n",
      "\n",
      "    ---------- Detalhamento ----------\n",
      "    \n",
      "              caixa        valor rendimento % rendimento\n",
      "           reservas R$ 32,669.30       % 2.87  R$ 937.54\n",
      "caixa_investimentos  R$ 8,806.05       % 2.68  R$ 235.59\n",
      "\n",
      "ativo        valor valorização proventos\n",
      "IRBR3  R$ 1,293.60     % 29.36   R$ 7.41\n",
      "MGLU3    R$ 286.00    % -18.52   R$ 0.00\n",
      "CMIG4  R$ 2,444.00      % 4.89  R$ 46.61\n",
      "  MMM  R$ 2,076.60      % 1.48   R$ 0.00\n",
      "SUZB3  R$ 4,945.00     % -0.70   R$ 0.00\n",
      "ITUB4  R$ 2,763.00      % 1.88  R$ 53.32\n",
      "BBAS3  R$ 4,718.00     % 29.62 R$ 300.63\n",
      "TAEE3  R$ 3,489.00    % -12.09 R$ 230.56\n",
      "TAEE4  R$ 4,676.00     % -0.00   R$ 0.00\n",
      "ITSA4 R$ 16,720.00      % 6.02 R$ 316.54\n"
     ]
    }
   ],
   "source": [
    "print_report('rodrigo')"
   ]
  },
  {
   "cell_type": "code",
   "execution_count": 54,
   "metadata": {},
   "outputs": [
    {
     "name": "stdout",
     "output_type": "stream",
     "text": [
      "\n",
      "    -------- Dayane Patrimonio --------\n",
      "    Patrimonio total: R$17,082.73\n",
      "\n",
      "    Moeda Real: R$12,414.40\n",
      "    Ativos Real: R$0.00\n",
      "    Moeda Dolar: $435.03 (R$2,128.38)\n",
      "    Ativos Dolar: $519.15 (R$2,539.94)\n",
      "\n",
      "    ---------- Detalhamento ----------\n",
      "    \n",
      "        caixa        valor rendimento % rendimento\n",
      "robank_dayane R$ 12,414.40       % 1.89  R$ 234.33\n",
      "\n",
      "ativo     valor valorização proventos\n",
      "  MMM R$ 519.15      % 1.48   R$ 0.00\n"
     ]
    }
   ],
   "source": [
    "print_report('dayane')"
   ]
  }
 ],
 "metadata": {
  "kernelspec": {
   "display_name": "Python 3",
   "language": "python",
   "name": "python3"
  },
  "language_info": {
   "codemirror_mode": {
    "name": "ipython",
    "version": 3
   },
   "file_extension": ".py",
   "mimetype": "text/x-python",
   "name": "python",
   "nbconvert_exporter": "python",
   "pygments_lexer": "ipython3",
   "version": "3.10.11"
  },
  "orig_nbformat": 4
 },
 "nbformat": 4,
 "nbformat_minor": 2
}
