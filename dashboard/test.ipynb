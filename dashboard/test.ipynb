{
 "cells": [
  {
   "cell_type": "code",
   "execution_count": 1,
   "metadata": {},
   "outputs": [],
   "source": [
    "from analytics import Analytics\n",
    "import pandas as pd\n",
    "\n",
    "calculadora =  Analytics()"
   ]
  },
  {
   "cell_type": "code",
   "execution_count": 3,
   "metadata": {},
   "outputs": [
    {
     "name": "stdout",
     "output_type": "stream",
     "text": [
      "-------- Rodrigo --------\n",
      "Real: 42,430.42\n",
      "Dolar: 2,467.94 (12,074.40)\n",
      "Ativos Real: 41,334.60\n",
      "Ativos Dolar: 2,076.60 (10,159.77)\n",
      "Patrimonio total: 105,999.18\n",
      "\n",
      "-------- Dayane --------\n",
      "Real: 12,414.40\n",
      "Dolar: 435.03 (2,128.38)\n",
      "Ativos Real: 0.00\n",
      "Ativos Dolar: 519.15 (2,539.94)\n",
      "Patrimonio total: 17,082.73\n",
      "\n"
     ]
    }
   ],
   "source": [
    "print('-------- Rodrigo --------')\n",
    "res = calculadora.calcular_patrimonio('rodrigo')\n",
    "print(f\"Patrimonio total: {res:,.2f}\\n\")\n",
    "\n",
    "print('-------- Dayane --------')\n",
    "res = calculadora.calcular_patrimonio('dayane')\n",
    "print(f\"Patrimonio total: {res:,.2f}\\n\")"
   ]
  },
  {
   "cell_type": "code",
   "execution_count": 4,
   "metadata": {},
   "outputs": [
    {
     "name": "stdout",
     "output_type": "stream",
     "text": [
      "{'reservas': 32669.3, 'caixa_investimentos': 8806.05, 'robank_dayane': 0.0}\n",
      "{'reservas': 0.0, 'caixa_investimentos': 0.0, 'robank_dayane': 12414.400000000001}\n"
     ]
    }
   ],
   "source": [
    "p = calculadora.calcular_patrimonio_reservas(dono='rodrigo')\n",
    "print(p)\n",
    "\n",
    "p = calculadora.calcular_patrimonio_reservas(dono='dayane')\n",
    "print(p)"
   ]
  },
  {
   "cell_type": "code",
   "execution_count": 5,
   "metadata": {},
   "outputs": [
    {
     "name": "stdout",
     "output_type": "stream",
     "text": [
      "                       CMIG4       MGLU3          MMM        ITUB4  \\\n",
      "price_today        12.220000    2.860000   103.830002    27.629999   \n",
      "quantidade        200.000000  100.000000    20.000000   100.000000   \n",
      "valorizacao         0.048927   -0.185185     0.014758     0.018805   \n",
      "valor_investido  2330.000000  351.000000  2046.400000  2712.000000   \n",
      "preco_medio        11.650000    3.510000   102.320000    27.120000   \n",
      "\n",
      "                       IRBR3         TAEE4         ITSA4        SUZB3  \\\n",
      "price_today        39.200001  1.169000e+01      9.500000    49.450001   \n",
      "quantidade         33.000000  4.000000e+02   1760.000000   100.000000   \n",
      "valorizacao         0.293600 -3.589535e-08      0.060174    -0.007028   \n",
      "valor_investido  1000.000000  4.676000e+03  15771.000000  4980.000000   \n",
      "preco_medio        30.303030  1.169000e+01      8.960795    49.800000   \n",
      "\n",
      "                       TAEE3        BBAS3  \n",
      "price_today        11.630000    47.180000  \n",
      "quantidade        300.000000   100.000000  \n",
      "valorizacao        -0.120937     0.296154  \n",
      "valor_investido  3969.000000  3640.000000  \n",
      "preco_medio        13.230000    36.400000  \n",
      "                        MMM\n",
      "preco_medio      102.320000\n",
      "price_today      103.830002\n",
      "quantidade         5.000000\n",
      "valor_investido  511.600000\n",
      "valorizacao        0.014758\n"
     ]
    }
   ],
   "source": [
    "p = calculadora.calcular_valorizacao_ativos(dono='rodrigo')\n",
    "p = pd.DataFrame(p)\n",
    "print(p)\n",
    "\n",
    "p = calculadora.calcular_valorizacao_ativos(dono='dayane')\n",
    "p = pd.DataFrame(p)\n",
    "print(p)"
   ]
  },
  {
   "cell_type": "code",
   "execution_count": 6,
   "metadata": {},
   "outputs": [
    {
     "name": "stdout",
     "output_type": "stream",
     "text": [
      "           CMIG4  ITUB4  IRBR3   ITSA4   TAEE3   BBAS3\n",
      "proventos  46.61  53.32   7.41  316.54  230.56  300.63\n",
      "Empty DataFrame\n",
      "Columns: []\n",
      "Index: []\n"
     ]
    }
   ],
   "source": [
    "p = calculadora.calcular_ativos_proventos(dono='rodrigo')\n",
    "p = pd.DataFrame(p)\n",
    "print(p)\n",
    "\n",
    "p = calculadora.calcular_ativos_proventos(dono='dayane')\n",
    "p = pd.DataFrame(p)\n",
    "print(p)"
   ]
  },
  {
   "cell_type": "code",
   "execution_count": 7,
   "metadata": {},
   "outputs": [
    {
     "name": "stdout",
     "output_type": "stream",
     "text": [
      "            caixa_investimentos  reservas\n",
      "valor                   8806.05  32669.30\n",
      "rendimento               235.59    937.54\n",
      "            robank_dayane\n",
      "rendimento         234.33\n",
      "valor            12414.40\n"
     ]
    }
   ],
   "source": [
    "p = calculadora.calcular_cdi_proventos(dono='rodrigo')\n",
    "p = pd.DataFrame(p)\n",
    "print(p)\n",
    "\n",
    "p = calculadora.calcular_cdi_proventos(dono='dayane')\n",
    "p = pd.DataFrame(p)\n",
    "print(p)"
   ]
  }
 ],
 "metadata": {
  "kernelspec": {
   "display_name": "Python 3",
   "language": "python",
   "name": "python3"
  },
  "language_info": {
   "codemirror_mode": {
    "name": "ipython",
    "version": 3
   },
   "file_extension": ".py",
   "mimetype": "text/x-python",
   "name": "python",
   "nbconvert_exporter": "python",
   "pygments_lexer": "ipython3",
   "version": "3.10.11"
  },
  "orig_nbformat": 4
 },
 "nbformat": 4,
 "nbformat_minor": 2
}
