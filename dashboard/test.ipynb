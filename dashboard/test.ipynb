{
 "cells": [
  {
   "cell_type": "code",
   "execution_count": 1,
   "metadata": {},
   "outputs": [],
   "source": [
    "from analytics import Analytics\n",
    "import pandas as pd\n",
    "\n",
    "calculadora =  Analytics()"
   ]
  },
  {
   "cell_type": "code",
   "execution_count": 3,
   "metadata": {},
   "outputs": [
    {
     "name": "stdout",
     "output_type": "stream",
     "text": [
      "-------- Rodrigo --------\n",
      "Real: 51,475.35\n",
      "Dolar: 2,467.94 (12,074.40)\n",
      "Ativos Real: 31,927.46\n",
      "Ativos Dolar: 2,081.40 (10,183.25)\n",
      "Patrimonio total: 105,660.46\n",
      "\n",
      "-------- Dayane --------\n",
      "Real: 12,414.40\n",
      "Dolar: 435.03 (2,128.38)\n",
      "Ativos Real: 0.00\n",
      "Ativos Dolar: 520.35 (2,545.81)\n",
      "Patrimonio total: 17,088.60\n",
      "\n"
     ]
    }
   ],
   "source": [
    "print('-------- Rodrigo --------')\n",
    "res = calculadora.calcular_patrimonio('rodrigo')\n",
    "print(f\"Patrimonio total: {res:,.2f}\\n\")\n",
    "\n",
    "print('-------- Dayane --------')\n",
    "res = calculadora.calcular_patrimonio('dayane')\n",
    "print(f\"Patrimonio total: {res:,.2f}\\n\")"
   ]
  },
  {
   "cell_type": "code",
   "execution_count": 4,
   "metadata": {},
   "outputs": [
    {
     "name": "stdout",
     "output_type": "stream",
     "text": [
      "{'reservas': 32669.3, 'caixa_investimentos': 17850.98, 'robank_dayane': 0.0}\n",
      "{'reservas': 0.0, 'caixa_investimentos': 0.0, 'robank_dayane': 12414.400000000001}\n"
     ]
    }
   ],
   "source": [
    "p = calculadora.calcular_patrimonio_reservas(dono='rodrigo')\n",
    "print(p)\n",
    "\n",
    "p = calculadora.calcular_patrimonio_reservas(dono='dayane')\n",
    "print(p)"
   ]
  },
  {
   "cell_type": "code",
   "execution_count": 5,
   "metadata": {},
   "outputs": [
    {
     "name": "stdout",
     "output_type": "stream",
     "text": [
      "                       BBAS3        CMIG4         ITSA4       MGLU3  \\\n",
      "price_today        47.000000    11.990000      9.630000    3.000000   \n",
      "quantidade        100.000000   200.000000   1760.000000  100.000000   \n",
      "valorizacao         0.291209     0.029185      0.074681   -0.145299   \n",
      "valor_investido  3640.000000  2330.000000  15771.000000  351.000000   \n",
      "preco_medio        36.400000    11.650000      8.960795    3.510000   \n",
      "\n",
      "                       TAEE3          MMM        ITUB4       IRBR3  \n",
      "price_today        11.810000   104.070000    27.500000    39.02000  \n",
      "quantidade        300.000000    20.000000   100.000000    33.00000  \n",
      "valorizacao        -0.107332     0.017103     0.014012     0.28766  \n",
      "valor_investido  3969.000000  2046.400000  2712.000000  1000.00000  \n",
      "preco_medio        13.230000   102.320000    27.120000    30.30303  \n",
      "                        MMM\n",
      "preco_medio      102.320000\n",
      "price_today      104.070000\n",
      "quantidade         5.000000\n",
      "valor_investido  511.600000\n",
      "valorizacao        0.017103\n"
     ]
    }
   ],
   "source": [
    "p = calculadora.calcular_valorizacao_ativos(dono='rodrigo')\n",
    "p = pd.DataFrame(p)\n",
    "print(p)\n",
    "\n",
    "p = calculadora.calcular_valorizacao_ativos(dono='dayane')\n",
    "p = pd.DataFrame(p)\n",
    "print(p)"
   ]
  },
  {
   "cell_type": "code",
   "execution_count": 6,
   "metadata": {},
   "outputs": [
    {
     "name": "stdout",
     "output_type": "stream",
     "text": [
      "            BBAS3  CMIG4   ITSA4  IRBR3   TAEE3  ITUB4\n",
      "proventos  300.63  46.61  316.54   7.41  230.56  53.32\n",
      "Empty DataFrame\n",
      "Columns: []\n",
      "Index: []\n"
     ]
    }
   ],
   "source": [
    "p = calculadora.calcular_ativos_proventos(dono='rodrigo')\n",
    "p = pd.DataFrame(p)\n",
    "print(p)\n",
    "\n",
    "p = calculadora.calcular_ativos_proventos(dono='dayane')\n",
    "p = pd.DataFrame(p)\n",
    "print(p)"
   ]
  },
  {
   "cell_type": "code",
   "execution_count": 7,
   "metadata": {},
   "outputs": [
    {
     "name": "stdout",
     "output_type": "stream",
     "text": [
      "            reservas  caixa_investimentos\n",
      "valor       32669.30             17850.98\n",
      "rendimento    937.54               235.59\n",
      "            robank_dayane\n",
      "rendimento         234.33\n",
      "valor            12414.40\n"
     ]
    }
   ],
   "source": [
    "p = calculadora.calcular_cdi_proventos(dono='rodrigo')\n",
    "p = pd.DataFrame(p)\n",
    "print(p)\n",
    "\n",
    "p = calculadora.calcular_cdi_proventos(dono='dayane')\n",
    "p = pd.DataFrame(p)\n",
    "print(p)"
   ]
  }
 ],
 "metadata": {
  "kernelspec": {
   "display_name": "Python 3",
   "language": "python",
   "name": "python3"
  },
  "language_info": {
   "codemirror_mode": {
    "name": "ipython",
    "version": 3
   },
   "file_extension": ".py",
   "mimetype": "text/x-python",
   "name": "python",
   "nbconvert_exporter": "python",
   "pygments_lexer": "ipython3",
   "version": "3.10.11"
  },
  "orig_nbformat": 4
 },
 "nbformat": 4,
 "nbformat_minor": 2
}
